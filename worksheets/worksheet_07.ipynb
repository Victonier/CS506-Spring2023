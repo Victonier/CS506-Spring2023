{
 "cells": [
  {
   "attachments": {},
   "cell_type": "markdown",
   "metadata": {},
   "source": [
    "# Worksheet 07\n",
    "\n",
    "Name:  Di Wang\n",
    "UID:  U22721196\n",
    "\n",
    "### Topics\n",
    "\n",
    "- Soft Clustering\n",
    "- Clustering Aggregation\n",
    "\n",
    "### Probability Review\n",
    "\n",
    "Read through [the following](https://medium.com/@gallettilance/overview-of-probability-3272b72c82c8)\n",
    "\n",
    "### Soft Clustering\n",
    "\n",
    "We generate 10 data points that come from a normal distribution with mean 5 and variance 1."
   ]
  },
  {
   "cell_type": "code",
   "execution_count": 1,
   "metadata": {},
   "outputs": [
    {
     "name": "stdout",
     "output_type": "stream",
     "text": [
      "[4.4163964898046775, 4.6926257063803885, 7.155366500453685, 4.306435542425865, 4.864392579086808, 5.508065682336184, 4.441990042570537, 3.643448042686269, 5.996627888989444, 5.400024767715278]\n"
     ]
    }
   ],
   "source": [
    "import random\n",
    "import numpy as np\n",
    "from sklearn.cluster import KMeans\n",
    "\n",
    "mean = 5\n",
    "stdev = 1\n",
    "\n",
    "c1 = np.random.normal(mean, stdev, 10).tolist()\n",
    "print(c1)"
   ]
  },
  {
   "cell_type": "markdown",
   "metadata": {},
   "source": [
    "a) Generate 10 more data points, this time coming from a normal distribution with mean 8 and variance 1."
   ]
  },
  {
   "cell_type": "code",
   "execution_count": 3,
   "metadata": {},
   "outputs": [
    {
     "name": "stdout",
     "output_type": "stream",
     "text": [
      "[8.02670851202366, 6.996033228418267, 8.658297070289873, 6.9743627550228435, 7.28476101579438, 8.928034731812248, 9.807724130184065, 9.59871973483993, 6.267793863812563, 8.886503156365356]\n"
     ]
    }
   ],
   "source": [
    "mean2 = 8\n",
    "var2 = 1\n",
    "c2 = np.random.normal(mean2, np.sqrt(var2), 10).tolist()\n",
    "print(c2)"
   ]
  },
  {
   "cell_type": "markdown",
   "metadata": {},
   "source": [
    "b) Flip a fair coin 10 times. If the coin lands on H, then pick the last data point of `c1` and remove it from `c1`, if T then pick the last data point from `c2` and remove it from `c2`. Add these 10 points to a list called `data`."
   ]
  },
  {
   "cell_type": "code",
   "execution_count": 4,
   "metadata": {},
   "outputs": [
    {
     "name": "stdout",
     "output_type": "stream",
     "text": [
      "[8.886503156365356, 5.400024767715278, 6.267793863812563, 5.996627888989444, 9.59871973483993, 9.807724130184065, 8.928034731812248, 3.643448042686269, 7.28476101579438, 6.9743627550228435]\n"
     ]
    }
   ],
   "source": [
    "data = []\n",
    "for i in range(10):\n",
    "    # flip coin\n",
    "    coin_output = random.choice([0, 1])\n",
    "    if coin_output == 0:\n",
    "        p1 = c1.pop()\n",
    "        data.append(p1)\n",
    "    else:\n",
    "        p2 = c2.pop()\n",
    "        data.append(p2)\n",
    "print(data)"
   ]
  },
  {
   "cell_type": "markdown",
   "metadata": {},
   "source": [
    "c) This `data` is a Gaussian Mixture Distribution with 2 mixture components. Over the next few questions we will walk through the GMM algorithm to see if we can uncover the parameters we used to generate this data. First, please list all these parameters of the GMM that created `data` and the values we know they have."
   ]
  },
  {
   "attachments": {},
   "cell_type": "markdown",
   "metadata": {},
   "source": [
    "Number of components (K): 2\n",
    "\n",
    "Means of each component (μ): 5, 8\n",
    "\n",
    "Covariance matrices of each component (Σ): Unknown\n",
    "\n",
    "Mixture weights (π): Unknown"
   ]
  },
  {
   "cell_type": "code",
   "execution_count": null,
   "metadata": {},
   "outputs": [],
   "source": []
  },
  {
   "cell_type": "markdown",
   "metadata": {},
   "source": [
    "d) Let's assume there are two mixture components (note: we could plot the data and make the observation that there are two clusters). The EM algorithm asks us to start with a random `mean_j`, `variance_j`, `P(C_j)` for each component j. One method we could use to find sensible values for these is to apply K means with k=2 here.\n",
    "\n",
    "1. the centroids would be the estimates of the `mean_j`\n",
    "2. the intra-cluster variance could be the estimate of `variance_j`\n",
    "3. the proportion of points in each cluster could be the estimate of `P(C_j)`\n",
    "\n",
    "Go through this process and list the parameter estimates it gives. Are they close or far from the true values?"
   ]
  },
  {
   "cell_type": "code",
   "execution_count": 5,
   "metadata": {},
   "outputs": [
    {
     "name": "stdout",
     "output_type": "stream",
     "text": [
      "[5.400024767715278, 6.267793863812563, 5.996627888989444, 3.643448042686269, 7.28476101579438, 6.9743627550228435]\n",
      "[8.886503156365356, 9.59871973483993, 9.807724130184065, 8.928034731812248]\n",
      "P(C_1) = 0.6,  P(C_2) = 0.4\n",
      "mean_1 = 5.927836389003463,  mean_2 = 9.3052454383004\n",
      "var_1 = 1.4256300761784946,  var_2 = 0.16406125357398743\n"
     ]
    }
   ],
   "source": [
    "kmeans = KMeans(2, init='k-means++').fit(X=np.array(data).reshape(-1, 1))\n",
    "\n",
    "c1 = [x[0] for x in filter(lambda x: x[1] == 0, zip(data, kmeans.labels_))]\n",
    "print(c1)\n",
    "c2 = [x[0] for x in filter(lambda x: x[1] == 1, zip(data, kmeans.labels_))]\n",
    "print(c2)\n",
    "\n",
    "prob_c = [len(c1) / (len(c1) + len(c2)), len(c2) / (len(c1) + len(c2))]\n",
    "mean = [sum(c1) / len(c1), sum(c2) / len(c2)]\n",
    "var = [sum(map(lambda x: (x - mean[0])**2, c1)) / len(c1),\n",
    "       sum(map(lambda x: (x - mean[1])**2, c2)) / len(c2)]\n",
    "\n",
    "print(\"P(C_1) = \" + str(prob_c[0]) + \",  P(C_2) = \" + str(prob_c[1]))\n",
    "print(\"mean_1 = \" + str(mean[0]) + \",  mean_2 = \" + str(mean[1]))\n",
    "print(\"var_1 = \" + str(var[0]) + \",  var_2 = \" + str(var[1]))"
   ]
  },
  {
   "attachments": {},
   "cell_type": "markdown",
   "metadata": {},
   "source": [
    "Comparing with true values, they are fairly close to the true values."
   ]
  },
  {
   "cell_type": "markdown",
   "metadata": {},
   "source": [
    "e) For each data point, compute `P(C_j | X_i)`. Comment on which cluster you think each point belongs to based on the estimated probabilities. How does that compare to the truth?"
   ]
  },
  {
   "cell_type": "code",
   "execution_count": 6,
   "metadata": {},
   "outputs": [
    {
     "name": "stdout",
     "output_type": "stream",
     "text": [
      "point =  8.886503156365356\n",
      "probability of observing that point if it came from cluster 0 =  0.032481975320072944\n",
      "probability of observing that point if it came from cluster 1 =  0.09360450247295346\n",
      "point =  5.400024767715278\n",
      "probability of observing that point if it came from cluster 0 =  0.26129958629340094\n",
      "probability of observing that point if it came from cluster 1 =  2.236446338766679e-123\n",
      "point =  6.267793863812563\n",
      "probability of observing that point if it came from cluster 0 =  0.27199154912360796\n",
      "probability of observing that point if it came from cluster 1 =  8.98837169946903e-75\n",
      "point =  5.996627888989444\n",
      "probability of observing that point if it came from cluster 0 =  0.27951016926174205\n",
      "probability of observing that point if it came from cluster 1 =  1.1768337509341815e-88\n",
      "point =  9.59871973483993\n",
      "probability of observing that point if it came from cluster 0 =  0.010166484309529522\n",
      "probability of observing that point if it came from cluster 1 =  0.4909846228477396\n",
      "point =  9.807724130184065\n",
      "probability of observing that point if it came from cluster 0 =  0.00689539638398569\n",
      "probability of observing that point if it came from cluster 1 =  0.022334035142894382\n",
      "point =  8.928034731812248\n",
      "probability of observing that point if it came from cluster 0 =  0.03056336343749503\n",
      "probability of observing that point if it came from cluster 1 =  0.17297668595369395\n",
      "point =  3.643448042686269\n",
      "probability of observing that point if it came from cluster 0 =  0.07750995640376906\n",
      "probability of observing that point if it came from cluster 1 =  5.923387369102497e-259\n",
      "point =  7.28476101579438\n",
      "probability of observing that point if it came from cluster 0 =  0.1779023186280133\n",
      "probability of observing that point if it came from cluster 1 =  2.8264219041437627e-33\n",
      "point =  6.9743627550228435\n",
      "probability of observing that point if it came from cluster 0 =  0.2137412626308137\n",
      "probability of observing that point if it came from cluster 1 =  3.5869956532062956e-44\n",
      "8.886503156365356\n",
      "Probability of coming from C_1 = 0.34233001216604536\n",
      "Probability of coming from C_2 = 0.6576699878339547\n",
      "\n",
      "5.400024767715278\n",
      "Probability of coming from C_1 = 1.0\n",
      "Probability of coming from C_2 = 5.7059570854824075e-123\n",
      "\n",
      "6.267793863812563\n",
      "Probability of coming from C_1 = 1.0\n",
      "Probability of coming from C_2 = 2.2031007282960885e-74\n",
      "\n",
      "5.996627888989444\n",
      "Probability of coming from C_1 = 1.0\n",
      "Probability of coming from C_2 = 2.8068954915963665e-88\n",
      "\n",
      "9.59871973483993\n",
      "Probability of coming from C_1 = 0.03012384774960148\n",
      "Probability of coming from C_2 = 0.9698761522503985\n",
      "\n",
      "9.807724130184065\n",
      "Probability of coming from C_1 = 0.31652396232355756\n",
      "Probability of coming from C_2 = 0.6834760376764425\n",
      "\n",
      "8.928034731812248\n",
      "Probability of coming from C_1 = 0.20950864854098925\n",
      "Probability of coming from C_2 = 0.7904913514590107\n",
      "\n",
      "3.643448042686269\n",
      "Probability of coming from C_1 = 1.0\n",
      "Probability of coming from C_2 = 5.094732465290065e-258\n",
      "\n",
      "7.28476101579438\n",
      "Probability of coming from C_1 = 1.0\n",
      "Probability of coming from C_2 = 1.0591662233301931e-32\n",
      "\n",
      "6.9743627550228435\n",
      "Probability of coming from C_1 = 1.0\n",
      "Probability of coming from C_2 = 1.1187968135105987e-43\n",
      "\n"
     ]
    }
   ],
   "source": [
    "from scipy.stats import norm\n",
    "\n",
    "prob_c0_x = [] # P(C_0 | X_i)\n",
    "prob_c1_x = [] # P(C_1 | X_i)\n",
    "prob_x = [] # P(X_i)\n",
    "\n",
    "k = 2\n",
    "\n",
    "for p in data:\n",
    "    print(\"point = \", p)\n",
    "    pdf_i = []\n",
    "\n",
    "    for j in range(k):\n",
    "        # P(X_i | C_j)\n",
    "        pdf_i.append(norm.pdf(p, mean[j], var[j]))\n",
    "        print(\"probability of observing that point if it came from cluster \" + str(j) + \" = \", pdf_i[j])\n",
    "        # P(C_j) already computed\n",
    "        prob_c[j]\n",
    "\n",
    "    # P(X_i) = P(C_0)P(X_i | C_0) + P(C_1)P(X_i | C_1)\n",
    "    prob_x = prob_c[0] * pdf_i[0] + prob_c[1] * pdf_i[1]\n",
    "\n",
    "    # P(C_j | X_i) = P(X_i | C_j)P(C_j) / P(X_i)\n",
    "    prob_c0_x.append(pdf_i[0] * prob_c[0] / prob_x)\n",
    "    prob_c1_x.append(pdf_i[1] * prob_c[1] / prob_x)\n",
    "\n",
    "probs = zip(data, prob_c0_x, prob_c1_x)\n",
    "for p in probs:\n",
    "    print(p[0])\n",
    "    print(\"Probability of coming from C_1 = \" + str(p[1]))\n",
    "    print(\"Probability of coming from C_2 = \" + str(p[2]))\n",
    "    print()\n"
   ]
  },
  {
   "cell_type": "markdown",
   "metadata": {},
   "source": [
    "f) Having computed `P(C_j | X_i)`, update the estimates of `mean_j`, `var_j`, and `P(C_j)`. How different are these values from the original ones you got from K means? briefly comment."
   ]
  },
  {
   "cell_type": "code",
   "execution_count": 7,
   "metadata": {},
   "outputs": [
    {
     "name": "stdout",
     "output_type": "stream",
     "text": [
      "P(C_1) = 0.6898486470780194,  P(C_2) = 0.31015135292198065\n",
      "mean_1 = 6.359824842626049,  mean_2 = 9.322814226481356\n",
      "var_1 = 2.5106440008729787,  var_2 = 0.15571083866718793\n"
     ]
    }
   ],
   "source": [
    "prob_c = [sum(prob_c0_x)/ len(prob_c0_x), sum(prob_c1_x)/ len(prob_c1_x)]\n",
    "mean = [sum([x[0] * x[1] for x in zip(prob_c0_x, data)]) / sum(prob_c0_x), sum([x[0] * x[1] for x in zip(prob_c1_x, data)]) / sum(prob_c1_x)]\n",
    "var = [sum([x * (y - mean[0])**2 for x, y in zip(prob_c0_x, data)]) / sum(prob_c0_x),\n",
    "       sum([x * (y - mean[1])**2 for x, y in zip(prob_c1_x, data)]) / sum(prob_c1_x)]\n",
    "\n",
    "print(\"P(C_1) = \" + str(prob_c[0]) + \",  P(C_2) = \" + str(prob_c[1]))\n",
    "print(\"mean_1 = \" + str(mean[0]) + \",  mean_2 = \" + str(mean[1]))\n",
    "print(\"var_1 = \" + str(var[0]) + \",  var_2 = \" + str(var[1]))"
   ]
  },
  {
   "attachments": {},
   "cell_type": "markdown",
   "metadata": {},
   "source": [
    "Comparing these values from the original ones you got from K means, we can see that they should be closer to the true values. Because the EM algorithm is attempting to iteratively improve the estimates based on the available data."
   ]
  },
  {
   "attachments": {},
   "cell_type": "markdown",
   "metadata": {},
   "source": [
    "g) Update `P(C_j | X_i)`. Comment on any differences or lack thereof you observe."
   ]
  },
  {
   "cell_type": "code",
   "execution_count": 29,
   "metadata": {},
   "outputs": [
    {
     "name": "stdout",
     "output_type": "stream",
     "text": [
      "[[0.22255168306775527, 0.7774483169322448], [1.0, 7.523838049712674e-22], [0.9999999999998255, 1.7446191264649615e-13], [0.9999999999999993, 6.906968337176284e-16], [0.08050625047774165, 0.9194937495222584], [0.09946248205125019, 0.9005375179487498], [0.19720851432559586, 0.8027914856744042], [1.0, 8.186706559734885e-45], [0.9999965482555135, 3.4517444865208653e-06], [0.9999999603780139, 3.962198612174554e-08]]\n"
     ]
    }
   ],
   "source": [
    "import math\n",
    "\n",
    "def norm_pdf(x, mean, variance):\n",
    "    coeff = 1.0 / (math.sqrt(2.0 * math.pi) * math.sqrt(variance))\n",
    "    exponent = math.exp(-(math.pow(x - mean, 2) / (2 * variance)))\n",
    "    return coeff * exponent\n",
    "\n",
    "prob_c0_x = [norm_pdf(x, mean[0], var[0]) * prob_c[0] for x in data]\n",
    "prob_c1_x = [norm_pdf(x, mean[1], var[1]) * prob_c[1] for x in data]\n",
    "sum_prob_cx = [prob_c0_x[i] + prob_c1_x[i] for i in range(len(data))]\n",
    "prob_c_x = [[prob_c0_x[i]/sum_prob_cx[i], prob_c1_x[i]/sum_prob_cx[i]] for i in range(len(data))]\n",
    "\n",
    "print(prob_c_x)"
   ]
  },
  {
   "cell_type": "markdown",
   "metadata": {},
   "source": [
    "Based on the previous results, the updated P(C_j | X_i) should be similar to the previous values. However, depending on the new data and the convergence of the algorithm, the values may shift slightly."
   ]
  },
  {
   "cell_type": "markdown",
   "metadata": {},
   "source": [
    "h) Use `P(C_j | X_i)` to create a hard assignment - label each point as belonging to a specific cluster (0 or 1)"
   ]
  },
  {
   "cell_type": "code",
   "execution_count": 31,
   "metadata": {},
   "outputs": [],
   "source": [
    "# Create a list to hold the labels\n",
    "labels = []\n",
    "\n",
    "# For each data point\n",
    "for i in range(len(data)):\n",
    "    # Compute the P(C_0 | X_i) and P(C_1 | X_i) values\n",
    "    prob_c0_xi = prob_c_x[i][0]\n",
    "    prob_c1_xi = prob_c_x[i][1]\n",
    "    \n",
    "    # Assign the label based on the larger probability\n",
    "    if prob_c0_xi >= prob_c1_xi:\n",
    "        labels.append(0)\n",
    "    else:\n",
    "        labels.append(1)\n"
   ]
  },
  {
   "cell_type": "markdown",
   "metadata": {},
   "source": [
    "### Clustering Aggregation\n",
    "\n",
    "| Point | C | P |\n",
    "|-------|---|---|\n",
    "| A     | 0 | a |\n",
    "| B     | 0 | b |\n",
    "| C     | 2 | b |\n",
    "| D     | 1 | c |\n",
    "| E     | 1 | d |\n",
    "\n",
    "a) Fill in the following table where for each pair of points determine whether C and P agree or disagree on how to cluster that pair."
   ]
  },
  {
   "attachments": {},
   "cell_type": "markdown",
   "metadata": {},
   "source": [
    "| Pair | Disagreement |\n",
    "|------|--------------|\n",
    "| A  B |      N       |\n",
    "| A  C |      Y       |\n",
    "| A  D |      N       |\n",
    "| A  E |      N       |\n",
    "| B  C |      Y       |\n",
    "| B  D |      Y       |\n",
    "| B  E |      Y       |\n",
    "| C  D |      Y       |\n",
    "| C  E |      Y       |\n",
    "| D  E |      N       |\n"
   ]
  },
  {
   "cell_type": "markdown",
   "metadata": {},
   "source": [
    "As datasets become very large, this process can become computationally challenging.\n",
    "\n",
    "b) Given N points, what is the formula for the number of unique pairs of points one can create?"
   ]
  },
  {
   "attachments": {},
   "cell_type": "markdown",
   "metadata": {},
   "source": [
    "N(N-1)/2\n",
    "\n",
    "This formula accounts for the fact that for every point in the dataset, there are N-1 other points to compare it to, but each pair is counted twice (e.g. AB and BA), so we need to divide the total count by 2 to get the number of unique pairs."
   ]
  },
  {
   "cell_type": "markdown",
   "metadata": {},
   "source": [
    "Assume that clustering C clusters all points in the same cluster and clustering P clusters points as such:\n",
    "\n",
    "| Point | P |\n",
    "|-------|---|\n",
    "| A     | 0 |\n",
    "| B     | 0 |\n",
    "| C     | 0 |\n",
    "| D     | 1 |\n",
    "| E     | 1 |\n",
    "| F     | 2 |\n",
    "| G     | 2 |\n",
    "| H     | 2 |\n",
    "| I     | 2 |\n",
    "\n",
    "c) What is the maximum number of disagreements there could be for a dataset of this size? (use the formula from b)?"
   ]
  },
  {
   "attachments": {},
   "cell_type": "markdown",
   "metadata": {},
   "source": [
    "N(N-1)/2 = 9(9-1)/2 = 36"
   ]
  },
  {
   "cell_type": "markdown",
   "metadata": {},
   "source": [
    "d) If we look at cluster 0. There are (3 x 2) / 2 = 3 pairs that agree with C (since all points in C are in the same cluster). For each cluster, determine how many agreements there are. How many total agreements are there? How many disagreements does that mean there are between C and P?"
   ]
  },
  {
   "attachments": {},
   "cell_type": "markdown",
   "metadata": {},
   "source": [
    "total pairs: (9 x 8) / 2 = 36\n",
    "\n",
    "total disagreements: 36 - 9 = 27"
   ]
  },
  {
   "cell_type": "markdown",
   "metadata": {},
   "source": [
    "e) Assuming that filtering the dataset by cluster number is a computationally easy operation, describe an algorithm inspired by the above process that can efficiently compute disagreement distances on large datasets."
   ]
  },
  {
   "attachments": {},
   "cell_type": "markdown",
   "metadata": {},
   "source": [
    "1. Cluster the data using two different clustering algorithms (e.g. K-means and hierarchical clustering).\n",
    "\n",
    "2. For each pair of data points, check whether they are in the same cluster for each clustering algorithm. If the two clustering algorithms agree on the cluster assignment, record an agreement. If they disagree, record a disagreement.\n",
    "\n",
    "3. After checking all pairs of data points, compute the total number of agreements and disagreements for each clustering algorithm.\n",
    "\n",
    "4. Compute the disagreement distance between the two clustering algorithms as the ratio of disagreements to the total number of pairs of data points.\n",
    "\n",
    "TIME COMPLEXITY: $O(n^2)$"
   ]
  }
 ],
 "metadata": {
  "kernelspec": {
   "display_name": "base",
   "language": "python",
   "name": "python3"
  },
  "language_info": {
   "codemirror_mode": {
    "name": "ipython",
    "version": 3
   },
   "file_extension": ".py",
   "mimetype": "text/x-python",
   "name": "python",
   "nbconvert_exporter": "python",
   "pygments_lexer": "ipython3",
   "version": "3.9.13"
  },
  "orig_nbformat": 4,
  "vscode": {
   "interpreter": {
    "hash": "3785a633635558c05a6b1aca16a69f0ae054170ee828414f8ee7977178feb401"
   }
  }
 },
 "nbformat": 4,
 "nbformat_minor": 2
}
