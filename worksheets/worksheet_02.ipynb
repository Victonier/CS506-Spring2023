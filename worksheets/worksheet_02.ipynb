{
 "cells": [
  {
   "cell_type": "markdown",
   "metadata": {},
   "source": [
    "# Worksheet 02\n",
    "\n",
    "Name: Di Wang\n",
    "UID: U22721196\n",
    "\n",
    "### Topics\n",
    "\n",
    "- Effective Programming\n",
    "\n",
    "### Effective Programming\n",
    "\n",
    "a) What is a drawback of the top down approach?"
   ]
  },
  {
   "cell_type": "markdown",
   "metadata": {},
   "source": [
    "A drawback of the top-down approach is that it can be inflexible and may not allow for adaptation to changing circumstances or unforeseen obstacles. This approach starts with a comprehensive plan that is designed to guide the entire process, and deviations from this plan can be difficult to implement. As a result, this approach may not be well-suited to complex or rapidly changing situations where flexibility is needed."
   ]
  },
  {
   "cell_type": "markdown",
   "metadata": {},
   "source": [
    "b) What is a drawback of the bottom up approach?"
   ]
  },
  {
   "cell_type": "markdown",
   "metadata": {},
   "source": [
    "A drawback of the bottom-up approach is that it can lack overall direction and coordination. This approach relies on individual contributions and decisions made at the lower levels, and there may not be a clear strategy or vision guiding the process. As a result, there can be a lack of unity and coherence in the final outcome, and conflicting priorities or goals between different parts of the system can arise. This can lead to inefficiencies and ineffective solutions."
   ]
  },
  {
   "cell_type": "markdown",
   "metadata": {},
   "source": [
    "c) What are 3 things you can do to have a better debugging experience?"
   ]
  },
  {
   "cell_type": "markdown",
   "metadata": {},
   "source": [
    "Reproduce the error consistently: Try to understand the conditions that cause the error and create a consistent reproduction scenario to make debugging easier.\n",
    "\n",
    "Use the right tools: Utilize appropriate debugging tools such as a debugger, log statements, or print statements to help you understand the state of the program at different points in time.\n",
    "\n",
    "Isolate the problem: Try to narrow down the scope of the problem by eliminating irrelevant parts of the code or inputs that do not cause the error. This will make it easier to identify the root cause of the problem and come up with a solution."
   ]
  },
  {
   "cell_type": "markdown",
   "metadata": {},
   "source": [
    "d) (Optional) Follow along with the live coding. You can write your code here:"
   ]
  },
  {
   "cell_type": "code",
   "execution_count": null,
   "metadata": {},
   "outputs": [],
   "source": []
  }
 ],
 "metadata": {
  "kernelspec": {
   "display_name": "Python 3 (ipykernel)",
   "language": "python",
   "name": "python3"
  },
  "language_info": {
   "codemirror_mode": {
    "name": "ipython",
    "version": 3
   },
   "file_extension": ".py",
   "mimetype": "text/x-python",
   "name": "python",
   "nbconvert_exporter": "python",
   "pygments_lexer": "ipython3",
   "version": "3.9.13"
  },
  "vscode": {
   "interpreter": {
    "hash": "76ca05dc3ea24b2e3b98cdb7774adfbb40773424bf5109b477fd793f623715af"
   }
  }
 },
 "nbformat": 4,
 "nbformat_minor": 2
}
