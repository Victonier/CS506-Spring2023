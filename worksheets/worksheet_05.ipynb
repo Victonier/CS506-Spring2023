{
 "cells": [
  {
   "attachments": {},
   "cell_type": "markdown",
   "metadata": {},
   "source": [
    "# Worksheet 05\n",
    "\n",
    "Name: Di Wang\n",
    "UID: U22721196\n",
    "\n",
    "### Topics\n",
    "\n",
    "- Kmeans ++\n",
    "- Hierarchical Clustering"
   ]
  },
  {
   "attachments": {},
   "cell_type": "markdown",
   "metadata": {},
   "source": [
    "### Kmeans ++\n",
    "\n",
    "a) What is the difference between K means and K means ++?"
   ]
  },
  {
   "attachments": {},
   "cell_type": "markdown",
   "metadata": {},
   "source": [
    "K means selects the random initial centroids.\n",
    "\n",
    "K means ++ selects the first centroid randomly from the data points, and then for each subsequent centroid, it selects a data point that is far from the centroids already chosen. "
   ]
  },
  {
   "attachments": {},
   "cell_type": "markdown",
   "metadata": {},
   "source": [
    "b) What are some limitations of K means ++?"
   ]
  },
  {
   "attachments": {},
   "cell_type": "markdown",
   "metadata": {},
   "source": [
    "Number of clusters: The user must specify the number of clusters K in advance, which can be difficult to determine in some cases. If K is too large, the algorithm may produce many small, meaningless clusters. If K is too small, the algorithm may not capture the underlying structure of the data.\n",
    "\n",
    "Computational cost: K-Means++ is computationally expensive, especially for large datasets. The algorithm requires multiple iterations and requires computations to be performed for each data point in each iteration.\n",
    "\n",
    "Sensitivity to outliers: K-Means++ assumes that the data points are sampled from a well-defined underlying distribution. Outliers or anomalies in the data can cause the algorithm to produce suboptimal results."
   ]
  },
  {
   "attachments": {},
   "cell_type": "markdown",
   "metadata": {},
   "source": [
    "c) Interpret the silhouette plot below. It's a histogram where each bar corresponds to the silhouette score for that data point. Comment on which number of clusters K (2,3,4 or 5) you would choose and why. (the red dotted line is the average silhouette score over the entire dataset)."
   ]
  },
  {
   "cell_type": "code",
   "execution_count": null,
   "metadata": {},
   "outputs": [],
   "source": [
    "from IPython.display import Image\n",
    "Image(filename=\"silhouette.png\", width=500, height=500)"
   ]
  },
  {
   "attachments": {},
   "cell_type": "markdown",
   "metadata": {},
   "source": [
    "I will choose the  2 clusters.\n",
    "The value of 2 results in the highest average silhouette score. Therefore, it's generally higher and more uniform than for the other values of K."
   ]
  },
  {
   "attachments": {},
   "cell_type": "markdown",
   "metadata": {},
   "source": [
    "### Hierarchical Clustering\n",
    "\n",
    "Using the following dataset:\n",
    "\n",
    "| Point | x | y |\n",
    "|-------|---|---|\n",
    "| A     | 0 | 0 |\n",
    "| B     | 1 | 1 |\n",
    "| C     | 3 | 0 |\n",
    "| D     | 0 | 1 |\n",
    "| E     | 2 | 2 |\n",
    "\n",
    "with\n",
    "\n",
    "d = Euclidean  \n",
    "D = Single-Link\n",
    "\n",
    "produce the distance matrix at every step of the hierarchical clustering algorithm."
   ]
  },
  {
   "attachments": {},
   "cell_type": "markdown",
   "metadata": {},
   "source": [
    "Step 1\n",
    "\n",
    "|   | A | B | C | D | E |\n",
    "|---|---|---|---|---|---|\n",
    "| A | 0 | 1 | 3 | 1 | 2 |\n",
    "| B | 1 | 0 | 2 | 2 | 2 |\n",
    "| C | 3 | 2 | 0 | 2 | 3 |\n",
    "| D | 1 | 2 | 2 | 0 | 2 |\n",
    "| E | 2 | 2 | 3 | 2 | 0 |"
   ]
  },
  {
   "attachments": {},
   "cell_type": "markdown",
   "metadata": {},
   "source": [
    "Step 2\n",
    "\n",
    "|   | AB | C | D | E |\n",
    "|---|---|---|---|---|\n",
    "| AB| 0 | 2 | 1 | 2 |\n",
    "| C | 2 | 0 | 2 | 3 |\n",
    "| D | 1 | 2 | 0 | 2 |\n",
    "| E | 2 | 3 | 2 | 0 |"
   ]
  },
  {
   "attachments": {},
   "cell_type": "markdown",
   "metadata": {},
   "source": [
    "Step 3\n",
    "\n",
    "|   |ABC| D |  E |\n",
    "|---|---|---|---|\n",
    "| ABC| 0 | 1 | 2 |\n",
    "|  D | 1 | 0 | 2 |\n",
    "|  E | 2 | 2 | 0 |"
   ]
  },
  {
   "attachments": {},
   "cell_type": "markdown",
   "metadata": {},
   "source": [
    "Step 4\n",
    "\n",
    "|   |ABCD| E |\n",
    "|---|---|---|\n",
    "|ABCD| 0 | 2 |\n",
    "|  E | 2 | 0 |"
   ]
  },
  {
   "cell_type": "markdown",
   "metadata": {},
   "source": [
    "Repeat the above with\n",
    "\n",
    "d = Euclidean  \n",
    "D = Complete-Link"
   ]
  },
  {
   "attachments": {},
   "cell_type": "markdown",
   "metadata": {},
   "source": [
    "Step 1\n",
    "\n",
    "|   | A | B | C | D | E |\n",
    "|---|---|---|---|---|---|\n",
    "| A | 0 | 1 | 3 | 1 | 2 |\n",
    "| B | 1 | 0 | 2 | 2 | 2 |\n",
    "| C | 3 | 2 | 0 | 2 | 3 |\n",
    "| D | 1 | 2 | 2 | 0 | 2 |\n",
    "| E | 2 | 2 | 3 | 2 | 0 |"
   ]
  },
  {
   "attachments": {},
   "cell_type": "markdown",
   "metadata": {},
   "source": [
    "Step 2\n",
    "\n",
    "|   | AB | C | D | E |\n",
    "|---|---|---|---|---|\n",
    "| AB | 0 | 1 | 1 | 1 |\n",
    "| C | 3 | 0 | 2 | 3 |\n",
    "| D | 1 | 2 | 0 | 2 |\n",
    "| E | 2 | 3 | 2 | 0 |"
   ]
  },
  {
   "attachments": {},
   "cell_type": "markdown",
   "metadata": {},
   "source": [
    "Step 3\n",
    "\n",
    "|   | ABC | D | E |\n",
    "|---|---|---|---|\n",
    "| ABC | 0 | 1 | 1 |\n",
    "| D | 2 | 0 | 2 |\n",
    "| E | 3 | 2 | 0 |"
   ]
  },
  {
   "attachments": {},
   "cell_type": "markdown",
   "metadata": {},
   "source": [
    "Step 4\n",
    "\n",
    "|   | ABCD | E |\n",
    "|---|---|---|\n",
    "| ABCD | 0 | 3 |\n",
    "| E | 3 | 0 |"
   ]
  }
 ],
 "metadata": {
  "kernelspec": {
   "display_name": "base",
   "language": "python",
   "name": "python3"
  },
  "language_info": {
   "name": "python",
   "version": "3.9.13"
  },
  "orig_nbformat": 4,
  "vscode": {
   "interpreter": {
    "hash": "3785a633635558c05a6b1aca16a69f0ae054170ee828414f8ee7977178feb401"
   }
  }
 },
 "nbformat": 4,
 "nbformat_minor": 2
}
