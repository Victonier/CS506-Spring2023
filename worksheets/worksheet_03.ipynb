{
 "cells": [
  {
   "cell_type": "markdown",
   "metadata": {},
   "source": [
    "# Worksheet 03\n",
    "\n",
    "Name: Di Wang\n",
    "UID: U22721196\n",
    "\n",
    "### Topics\n",
    "\n",
    "- Intro to DS\n",
    "\n",
    "### Linear Algebra Review\n",
    "\n",
    "If you need a linear algebra review, please read through the [following pdf](https://github.com/gallettilance/CS506-Spring2023/raw/main/worksheets/lecture_03_linear_algebra_review.pdf) before next class\n",
    "\n",
    "### Intro to Data Science\n",
    "\n",
    "a) what property must a hypothesis have?"
   ]
  },
  {
   "cell_type": "markdown",
   "metadata": {},
   "source": [
    "A hypothesis must be falsifiable. It means the hypothesis can be tested and proven false through empirical evidence.\n",
    "A hypothesis should also be testable and make predictions that can be observed and measured. Additionally, a good hypothesis should be logical and consistent with existing knowledge and understanding in the relevant field."
   ]
  },
  {
   "cell_type": "markdown",
   "metadata": {},
   "source": [
    "b) what examples would you have wanted to try?"
   ]
  },
  {
   "cell_type": "markdown",
   "metadata": {},
   "source": [
    "The hypothesis that a new educational intervention will improve students' test scores. This can be tested by implementing the intervention in a controlled study and comparing the test scores of the students who received the intervention to a control group."
   ]
  },
  {
   "cell_type": "markdown",
   "metadata": {},
   "source": [
    "c) Poll 1"
   ]
  },
  {
   "cell_type": "markdown",
   "metadata": {},
   "source": [
    "a b c"
   ]
  },
  {
   "cell_type": "markdown",
   "metadata": {},
   "source": [
    "d) Given the hypothesis (x, 2x, 3x), for each of the following, determine whether they are positive or negative examples:\n",
    "\n",
    "- (2, 4, 6)\n",
    "- (6, 8 , 10)\n",
    "- (1, 3, 5)"
   ]
  },
  {
   "cell_type": "markdown",
   "metadata": {},
   "source": [
    "(2, 4, 6) positive\n",
    "(6, 8 , 10) negative\n",
    "(1, 3, 5) negative"
   ]
  },
  {
   "cell_type": "markdown",
   "metadata": {},
   "source": [
    "e) Poll 2"
   ]
  },
  {
   "cell_type": "markdown",
   "metadata": {},
   "source": [
    "a b"
   ]
  },
  {
   "cell_type": "markdown",
   "metadata": {},
   "source": [
    "f) Describe steps of a Data Science Workflow"
   ]
  },
  {
   "cell_type": "markdown",
   "metadata": {},
   "source": [
    "process data: Gathering the necessary data and cleaning and pre-processing the data to prepare it for analysis.\n",
    "explore data: Analyzing the data to gain insights and understanding of the underlying patterns and relationships in the data.\n",
    "extract data: Extracting the best features to use for the task and transforming the exsiting data.\n",
    "create model: Building models or algorithms to solve the problem or answer the business question."
   ]
  },
  {
   "cell_type": "markdown",
   "metadata": {},
   "source": [
    "g) Give a real world example for each of the following data types:\n",
    "\n",
    "- record\n",
    "- graph\n",
    "- image\n",
    "- text"
   ]
  },
  {
   "cell_type": "markdown",
   "metadata": {},
   "source": [
    "Record: A customer database for an online retailer, containing information such as customer name, address, email, and purchase history.\n",
    "Graph: A graph showing the trend of global temperatures over the past 100 years.\n",
    "Image: A satellite image of a city, showing the distribution of buildings, roads, and other features.\n",
    "Text: A collection of customer reviews for a particular product on an e-commerce website."
   ]
  },
  {
   "cell_type": "markdown",
   "metadata": {},
   "source": [
    "h) Give a real world example of unsupervised learning"
   ]
  },
  {
   "cell_type": "markdown",
   "metadata": {},
   "source": [
    "In market segmentation, a company's customer data is grouped into clusters based on their purchasing behavior, without having predefined categories. This process involves finding patterns and relationships in the data, and grouping similar customers together. The result is a segmentation of the market into groups of customers with similar behavior, which can then be used for targeted marketing efforts."
   ]
  },
  {
   "cell_type": "markdown",
   "metadata": {},
   "source": [
    "i) Give a real world example of supervised learning"
   ]
  },
  {
   "cell_type": "markdown",
   "metadata": {},
   "source": [
    "A real world example of supervised learning is email spam detection. In this scenario, a model is trained on a labeled dataset of emails, where some emails are marked as \"spam\" and others are marked as \"not spam\". The model learns to identify patterns in the data that distinguish between spam and non-spam emails. Once the model is trained, it can be used to classify new incoming emails as either spam or not spam, based on its prediction. The model's performance can be evaluated based on its accuracy in classifying the emails, and it can be improved by adjusting its parameters or training it on a larger and more diverse dataset."
   ]
  }
 ],
 "metadata": {
  "kernelspec": {
   "display_name": "Python 3 (ipykernel)",
   "language": "python",
   "name": "python3"
  },
  "language_info": {
   "codemirror_mode": {
    "name": "ipython",
    "version": 3
   },
   "file_extension": ".py",
   "mimetype": "text/x-python",
   "name": "python",
   "nbconvert_exporter": "python",
   "pygments_lexer": "ipython3",
   "version": "3.9.13"
  },
  "vscode": {
   "interpreter": {
    "hash": "e7370f93d1d0cde622a1f8e1c04877d8463912d04d973331ad4851f04de6915a"
   }
  }
 },
 "nbformat": 4,
 "nbformat_minor": 2
}
